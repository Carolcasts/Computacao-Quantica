from qiskit import *

#Criando resgitradores

qr = QuantumRegister(2)
cr = ClassicalRegister(2)

circuit = QuantumCircuit(qr , cr)
%matplotlib inline

circuit.h(qr[0])
circuit.draw()

circuit.cx(qr[0],qr[1])
circuit.draw()

circuit.measure(qr,cr)
simulator = Aer.get_backend('qasm_simulator')
execute(circuit, backend = simulator)
result = execute(circuit, backend = simulator).result()

from qiskit.tools.visualization import plot_histogram
plot_histogram(counts, title='Sobreposição')

#Rodando no pc quantico

IBMQ.load_account()
provider=IBMQ.get_provider('ibm-q')
qcomp = provider.get_backend('ibm_oslo')

job = execute(circuit, backend=qcomp)

from qiskit.tools.monitor import job_monitor
job_monitor(job)
result = job.result()
plot_histogram(result.get_counts(circuit))
